{
  "nbformat": 4,
  "nbformat_minor": 0,
  "metadata": {
    "colab": {
      "provenance": [],
      "toc_visible": true,
      "authorship_tag": "ABX9TyPYwiozlNOE5+4iC0gZKpKW",
      "include_colab_link": true
    },
    "kernelspec": {
      "name": "python3",
      "display_name": "Python 3"
    },
    "language_info": {
      "name": "python"
    }
  },
  "cells": [
    {
      "cell_type": "markdown",
      "metadata": {
        "id": "view-in-github",
        "colab_type": "text"
      },
      "source": [
        "<a href=\"https://colab.research.google.com/github/roboy88/Foundations-of-ML-Classification-Regression-GANs-LSTM-and-Beyond/blob/main/Foundations_of_ML_Classification%2C_Regression%2C_GANs%2C_LSTM%2C_and_Beyond.ipynb\" target=\"_parent\"><img src=\"https://colab.research.google.com/assets/colab-badge.svg\" alt=\"Open In Colab\"/></a>"
      ]
    },
    {
      "cell_type": "code",
      "execution_count": null,
      "metadata": {
        "id": "mV1SItZJbI8S"
      },
      "outputs": [],
      "source": [
        "# 1. SETUP & IMPORTS\n",
        "import numpy as np\n",
        "import pandas as pd\n",
        "import matplotlib.pyplot as plt\n",
        "import seaborn as sns\n",
        "from sklearn.datasets import load_iris, make_regression, load_digits\n",
        "from sklearn.model_selection import train_test_split, GridSearchCV\n",
        "from sklearn.linear_model import LogisticRegression, LinearRegression\n",
        "from sklearn.metrics import confusion_matrix, ConfusionMatrixDisplay, mean_squared_error\n",
        "from sklearn.cluster import KMeans\n",
        "import tensorflow as tf\n",
        "from tensorflow.keras import layers, models, optimizers\n",
        "from tensorflow.keras.applications import VGG16\n",
        "from tensorflow.keras.datasets import mnist\n",
        "from tensorflow.keras.utils import to_categorical\n",
        "import warnings\n",
        "warnings.filterwarnings(\"ignore\")\n"
      ]
    },
    {
      "cell_type": "code",
      "source": [
        "# 2. CLASSIFICATION & CONFUSION MATRIX\n",
        "iris = load_iris()\n",
        "X_train, X_test, y_train, y_test = train_test_split(iris.data, iris.target, random_state=42)\n",
        "clf = LogisticRegression(max_iter=200)\n",
        "clf.fit(X_train, y_train)\n",
        "y_pred = clf.predict(X_test)\n",
        "\n",
        "# Confusion Matrix\n",
        "cm = confusion_matrix(y_test, y_pred)\n",
        "disp = ConfusionMatrixDisplay(confusion_matrix=cm, display_labels=iris.target_names)\n",
        "disp.plot()\n",
        "plt.title(\"Confusion Matrix – Iris Classifier\")\n",
        "plt.show()\n"
      ],
      "metadata": {
        "id": "87rVTUY2bOrq"
      },
      "execution_count": null,
      "outputs": []
    },
    {
      "cell_type": "code",
      "source": [
        "# 3. REGRESSION TASK\n",
        "X, y = make_regression(n_samples=100, n_features=1, noise=10, random_state=42)\n",
        "reg = LinearRegression()\n",
        "reg.fit(X, y)\n",
        "y_pred = reg.predict(X)\n",
        "\n",
        "plt.scatter(X, y, label='Actual')\n",
        "plt.plot(X, y_pred, color='red', label='Prediction')\n",
        "plt.legend()\n",
        "plt.title(\"Simple Linear Regression\")\n",
        "plt.show()\n",
        "\n",
        "print(\"MSE:\", mean_squared_error(y, y_pred))\n"
      ],
      "metadata": {
        "id": "NPCyUwqwbTce"
      },
      "execution_count": null,
      "outputs": []
    },
    {
      "cell_type": "code",
      "source": [
        "# 4. UNSUPERVISED LEARNING – KMeans Clustering\n",
        "kmeans = KMeans(n_clusters=3, random_state=42)\n",
        "kmeans.fit(iris.data)\n",
        "plt.scatter(iris.data[:, 0], iris.data[:, 1], c=kmeans.labels_)\n",
        "plt.title(\"KMeans Clustering on Iris Data\")\n",
        "plt.xlabel(iris.feature_names[0])\n",
        "plt.ylabel(iris.feature_names[1])\n",
        "plt.show()\n"
      ],
      "metadata": {
        "id": "pdfoX272bcrq"
      },
      "execution_count": null,
      "outputs": []
    },
    {
      "cell_type": "code",
      "source": [
        "# 5. TRANSFER LEARNING – Pretrained VGG16\n",
        "base_model = VGG16(weights='imagenet', include_top=False, input_shape=(32, 32, 3))\n",
        "base_model.trainable = False\n",
        "\n",
        "model = models.Sequential([\n",
        "    base_model,\n",
        "    layers.Flatten(),\n",
        "    layers.Dense(64, activation='relu'),\n",
        "    layers.Dense(10, activation='softmax')\n",
        "])\n",
        "\n",
        "model.compile(optimizer='adam', loss='sparse_categorical_crossentropy', metrics=['accuracy'])\n",
        "print(\"Transfer Learning model summary:\")\n",
        "model.summary()\n"
      ],
      "metadata": {
        "id": "5T3hRIszbhwG"
      },
      "execution_count": null,
      "outputs": []
    },
    {
      "cell_type": "code",
      "source": [
        "# 6. LSTM – TIME SERIES DATA\n",
        "from tensorflow.keras.preprocessing.sequence import TimeseriesGenerator\n",
        "\n",
        "# Dummy sine wave sequence\n",
        "time = np.arange(0, 100, 0.1)\n",
        "series = np.sin(time)\n",
        "\n",
        "# Prepare data\n",
        "n_input = 10\n",
        "generator = TimeseriesGenerator(series, series, length=n_input, batch_size=1)\n",
        "\n",
        "model = models.Sequential([\n",
        "    layers.LSTM(50, activation='relu', input_shape=(n_input, 1)),\n",
        "    layers.Dense(1)\n",
        "])\n",
        "model.compile(optimizer='adam', loss='mse')\n",
        "\n",
        "model.fit(generator, epochs=5, verbose=1)\n"
      ],
      "metadata": {
        "id": "ATrAoMKqboqL"
      },
      "execution_count": null,
      "outputs": []
    },
    {
      "cell_type": "code",
      "source": [
        "# 7. SEMANTIC SEGMENTATION (Simplified with MNIST)\n",
        "(X_train, y_train), (X_test, y_test) = mnist.load_data()\n",
        "X_train = X_train.reshape(-1, 28, 28, 1).astype(\"float32\") / 255.0\n",
        "y_train_cat = to_categorical(y_train, 10)\n",
        "\n",
        "model = models.Sequential([\n",
        "    layers.Conv2D(32, (3,3), activation='relu', input_shape=(28,28,1)),\n",
        "    layers.MaxPooling2D((2,2)),\n",
        "    layers.Flatten(),\n",
        "    layers.Dense(64, activation='relu'),\n",
        "    layers.Dense(10, activation='softmax')\n",
        "])\n",
        "\n",
        "model.compile(optimizer='adam', loss='categorical_crossentropy', metrics=['accuracy'])\n",
        "\n",
        "# Split into training and validation\n",
        "model.fit(X_train, y_train_cat, epochs=3, validation_split=0.2)\n"
      ],
      "metadata": {
        "id": "C4gqWNbdb2jT"
      },
      "execution_count": null,
      "outputs": []
    },
    {
      "cell_type": "code",
      "source": [
        "# 8. HYPERPARAMETER TUNING – GRID SEARCH\n",
        "params = {'C': [0.1, 1, 10], 'solver': ['liblinear']}\n",
        "grid = GridSearchCV(LogisticRegression(), params, cv=3)\n",
        "grid.fit(X_train.reshape(X_train.shape[0], -1), y_train)\n",
        "print(\"Best parameters:\", grid.best_params_)\n"
      ],
      "metadata": {
        "id": "0mD4z__OcEaW"
      },
      "execution_count": null,
      "outputs": []
    },
    {
      "cell_type": "code",
      "source": [
        "# 9. GENERATIVE ADVERSARIAL NETWORK (GAN) – BASIC STRUCTURE\n",
        "def build_generator():\n",
        "    model = models.Sequential([\n",
        "        layers.Dense(128, activation='relu', input_dim=100),\n",
        "        layers.Dense(28*28, activation='sigmoid'),\n",
        "        layers.Reshape((28, 28, 1))\n",
        "    ])\n",
        "    return model\n",
        "\n",
        "def build_discriminator():\n",
        "    model = models.Sequential([\n",
        "        layers.Flatten(input_shape=(28, 28, 1)),\n",
        "        layers.Dense(128, activation='relu'),\n",
        "        layers.Dense(1, activation='sigmoid')\n",
        "    ])\n",
        "    return model\n",
        "\n",
        "generator = build_generator()\n",
        "discriminator = build_discriminator()\n",
        "\n",
        "gan = models.Sequential([generator, discriminator])\n",
        "discriminator.compile(optimizer='adam', loss='binary_crossentropy')\n",
        "gan.compile(optimizer='adam', loss='binary_crossentropy')\n",
        "\n",
        "print(\"GAN structure built.\")\n"
      ],
      "metadata": {
        "id": "rRq0rfxbcWjA"
      },
      "execution_count": null,
      "outputs": []
    },
    {
      "cell_type": "markdown",
      "source": [
        "# New Section"
      ],
      "metadata": {
        "id": "uWt_dokndOPd"
      }
    },
    {
      "cell_type": "markdown",
      "source": [
        "# New Section"
      ],
      "metadata": {
        "id": "x8FrnfFVdO-V"
      }
    }
  ]
}